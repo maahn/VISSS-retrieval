{
 "cells": [
  {
   "cell_type": "code",
   "execution_count": 1,
   "metadata": {},
   "outputs": [
    {
     "name": "stdout",
     "output_type": "stream",
     "text": [
      "plt_backend\n",
      "PID: 14408\n"
     ]
    }
   ],
   "source": [
    "from master3 import *"
   ]
  },
  {
   "cell_type": "code",
   "execution_count": 2,
   "metadata": {},
   "outputs": [],
   "source": [
    "from first import *\n"
   ]
  },
  {
   "cell_type": "code",
   "execution_count": 4,
   "metadata": {
    "scrolled": false
   },
   "outputs": [],
   "source": [
    "# Read video\n",
    "fnames = sorted(\n",
    "    glob.glob(\n",
    "        \"/Volumes/easystore/data_visss/master_data/mosaic/visss1_visss_master_S1145792/data/2019/11/15/visss1_visss_master_S1145792_20191115-05*.mov\"\n",
    "    ))\n",
    "fnames = sorted(\n",
    "    glob.glob(\n",
    "        \"/Volumes/easystore/data_visss/slave_data/mosaic/visss2_visss_slave_S1143155/data/2019/11/15/visss2_visss_slave_S1143155_20191115-05*.mov\"\n",
    "    ))\n",
    "\n",
    "# fnames = sorted(glob.glob(\n",
    "#     \"/Volumes/easystore/data_visss/slave_data/mosaic/visss2_visss_slave_S1143155/data/2019/11/15/visss2_visss_slave_S1143155_20191115-05*.mov\"))\n",
    "\n",
    "# fnames = sorted(glob.glob(\n",
    "#     '/Users/mmaahn/data/VISSS_data/visss1_visss_master_S1145792_20191115-052500.mov'))\n",
    "# fnames = sorted(glob.glob(\n",
    "#     '/Users/mmaahn/data/VISSS_data/visss2_visss_slave*.mov'))\n",
    "\n",
    "outPath = '/Users/mmaahn/data/VISSS_data//mosaic_retrieval'\n",
    "\n",
    "for fname in fnames:\n",
    "    print(fname)\n",
    "    fnameOut = '%s/%s.' % (outPath, fname.split('/')[-1])\n",
    "    fnameOut2 = '%s/%s.retrieval_v%s.nc' % (outPath, fname.split('/')[-1],\n",
    "                                            version)\n",
    "    particles1 = particles(fnameOut, verbosity=0)\n",
    "\n",
    "    outFname = '%s/%s.nc' % (outPath, fname.split('/')[-1])\n",
    "    if os.path.isfile(fnameOut2):\n",
    "        print(outFname, 'exists')\n",
    "        continue\n",
    "\n",
    "    inVid = cv2.VideoCapture(fname)\n",
    "\n",
    "    ii = -1\n",
    "    if not inVid.isOpened:\n",
    "        print('Unable to open: ')\n",
    "        exit(0)\n",
    "\n",
    "    blurs = np.zeros(int(inVid.get(cv2.CAP_PROP_FRAME_COUNT)))\n",
    "    nMovingPixs = np.zeros(int(inVid.get(cv2.CAP_PROP_FRAME_COUNT)))\n",
    "\n",
    "    while True:\n",
    "\n",
    "        ii += 1\n",
    "\n",
    "        if ii % 100 == 0:\n",
    "            print(fname, ii)\n",
    "\n",
    "        # if ii < 5825: continue\n",
    "\n",
    "        # inVid.set(cv2.CAP_PROP_POS_FRAMES,5825);\n",
    "\n",
    "        ok, fullFrame = inVid.read()\n",
    "        if fullFrame is None:\n",
    "            break\n",
    "\n",
    "        # frame = cv2.cvtColor(frame, cv2.COLOR_BGR2GRAY)\n",
    "\n",
    "        frame = fullFrame[64:]\n",
    "\n",
    "        particles1.update(frame)\n",
    "\n",
    "        #print(\"FID\", particles1.fid, particles1.nMovingPix, particles1.blur, particles1.N)\n",
    "\n",
    "#         if particles1.N > 0:\n",
    "\n",
    "#             cv2.imshow('Frame', particles1.frame4drawing)\n",
    "#             cv2.imshow('FG Mask', particles1.fgMask)\n",
    "#             keyboard = cv2.waitKey(10)\n",
    "#             if keyboard == 'q' or keyboard == 27:\n",
    "#                 break\n",
    "\n",
    "    res = particles1.collectResults()\n",
    "    res.to_netcdf(fnameOut2)\n",
    "    # input(\"Press Enter to continue...\")\n",
    "    # else:\n",
    "    #     # print('skip', nMovingPix, blur)\n",
    "    #     pass\n",
    "    # # outVid.write(frame)\n",
    "\n",
    "    # outVid.close()\n",
    "    # inVid.close()\n",
    "\n",
    "    # results = xr.Dataset({\n",
    "    #     'blur': xr.DataArray(blurs, dims=['frame']),\n",
    "    #     'nMovingPixs': xr.DataArray(nMovingPixs, dims=['frame']),\n",
    "    #     })\n",
    "    # results.to_netcdf(outFname)"
   ]
  },
  {
   "cell_type": "code",
   "execution_count": null,
   "metadata": {},
   "outputs": [],
   "source": []
  }
 ],
 "metadata": {
  "kernelspec": {
   "display_name": "Python [conda env:py36]",
   "language": "python",
   "name": "conda-env-py36-py"
  },
  "language_info": {
   "codemirror_mode": {
    "name": "ipython",
    "version": 3
   },
   "file_extension": ".py",
   "mimetype": "text/x-python",
   "name": "python",
   "nbconvert_exporter": "python",
   "pygments_lexer": "ipython3",
   "version": "3.6.7"
  },
  "toc": {
   "base_numbering": 1,
   "nav_menu": {},
   "number_sections": true,
   "sideBar": true,
   "skip_h1_title": false,
   "title_cell": "Table of Contents",
   "title_sidebar": "Contents",
   "toc_cell": false,
   "toc_position": {},
   "toc_section_display": true,
   "toc_window_display": false
  }
 },
 "nbformat": 4,
 "nbformat_minor": 4
}
